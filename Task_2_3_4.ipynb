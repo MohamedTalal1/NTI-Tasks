{
  "nbformat": 4,
  "nbformat_minor": 0,
  "metadata": {
    "colab": {
      "provenance": [],
      "collapsed_sections": [
        "K5TbdB4LimUC",
        "Yb2pxi5zjnAo",
        "QAEAQ_DQupvx",
        "Q2SETqjeDQqC"
      ]
    },
    "kernelspec": {
      "name": "python3",
      "display_name": "Python 3"
    },
    "language_info": {
      "name": "python"
    }
  },
  "cells": [
    {
      "cell_type": "markdown",
      "source": [
        "### **Loading data**"
      ],
      "metadata": {
        "id": "K5TbdB4LimUC"
      }
    },
    {
      "cell_type": "code",
      "execution_count": null,
      "metadata": {
        "colab": {
          "base_uri": "https://localhost:8080/"
        },
        "id": "XGQELDSzijed",
        "outputId": "53ab037e-62ca-4dd1-e569-8bd6014de94c"
      },
      "outputs": [
        {
          "output_type": "stream",
          "name": "stdout",
          "text": [
            "Drive already mounted at /content/drive; to attempt to forcibly remount, call drive.mount(\"/content/drive\", force_remount=True).\n"
          ]
        }
      ],
      "source": [
        "from google.colab import drive\n",
        "drive.mount('/content/drive')"
      ]
    },
    {
      "cell_type": "code",
      "source": [
        "import keras\n",
        "from keras import layers\n",
        "from keras.layers import Conv2D, MaxPooling2D, Flatten, Dense, Input, Reshape, Dropout\n",
        "import matplotlib.pyplot as plt\n",
        "from glob import glob\n",
        "from PIL import Image\n",
        "from sklearn.model_selection import train_test_split, KFold, cross_val_score, GridSearchCV\n",
        "from keras.models import Sequential, Model\n",
        "from keras.utils import to_categorical\n",
        "import pandas as pd\n",
        "import numpy as np\n",
        "import cv2\n",
        "import os\n",
        "from keras.optimizers import Adam\n",
        "from keras.losses import MeanSquaredError, SparseCategoricalCrossentropy\n",
        "from keras.metrics import SparseCategoricalAccuracy\n",
        "np.random.seed(11)"
      ],
      "metadata": {
        "id": "HQGl8k27ipcG"
      },
      "execution_count": null,
      "outputs": []
    },
    {
      "cell_type": "code",
      "source": [
        "train_dir = os.path.join(os. getcwd() , r'/content/drive/MyDrive/train')\n",
        "test_dir = os.path.join (os.getcwd(), r'/content/drive/MyDrive/test')\n",
        "categories = ['benign','malignant']\n",
        "y_train = []\n",
        "x_train = []\n",
        "x_test = []\n",
        "y_test = []\n",
        "Batch_Size = 32\n",
        "INIT_LR = 1e-4\n",
        "EPOCHES = 10"
      ],
      "metadata": {
        "id": "ZZFJgnJLiwfO"
      },
      "execution_count": null,
      "outputs": []
    },
    {
      "cell_type": "code",
      "source": [
        "for category in categories:\n",
        "  path = os.path.join(train_dir, category)\n",
        "  for img in os.listdir(path):\n",
        "    img_path = os.path.join(path, img)\n",
        "    image = cv2.imread(img_path)\n",
        "    image = cv2.resize(image, (224,224))\n",
        "    image = image / 255\n",
        "    x_train.append(image)\n",
        "    y_train.append(category)"
      ],
      "metadata": {
        "id": "N9mtcAtciyJ6"
      },
      "execution_count": null,
      "outputs": []
    },
    {
      "cell_type": "code",
      "source": [
        "for category in categories:\n",
        "  path = os.path.join(test_dir, category)\n",
        "  for img in os.listdir(path):\n",
        "    img_path = os.path.join(path, img)\n",
        "    image = cv2.imread(img_path)\n",
        "    image - cv2.resize(image, (224,224))\n",
        "    image = image / 255\n",
        "    x_test.append(image)\n",
        "    y_test.append(category)"
      ],
      "metadata": {
        "id": "B-q6yUuziy83"
      },
      "execution_count": null,
      "outputs": []
    },
    {
      "cell_type": "code",
      "source": [
        "from sklearn.preprocessing import LabelBinarizer\n",
        "from keras.utils import to_categorical\n",
        "\n",
        "lb = LabelBinarizer ()\n",
        "y_train = lb.fit_transform(y_train)\n",
        "y_train = to_categorical(y_train,num_classes=2)\n",
        "y_test = lb.fit_transform(y_test)\n",
        "y_test = to_categorical (y_test, num_classes=2)"
      ],
      "metadata": {
        "id": "vmL2G6Xli0BA"
      },
      "execution_count": null,
      "outputs": []
    },
    {
      "cell_type": "code",
      "source": [
        "x_train = np.array(x_train, dtype= 'float32')\n",
        "y_train = np.array(y_train,dtype= 'float32')\n",
        "x_test = np.array(x_test,dtype= 'float32')\n",
        "y_test = np.array(y_test, dtype= 'float32')"
      ],
      "metadata": {
        "id": "kNDTJ0-pi12M"
      },
      "execution_count": null,
      "outputs": []
    },
    {
      "cell_type": "code",
      "source": [
        "x_train.shape"
      ],
      "metadata": {
        "colab": {
          "base_uri": "https://localhost:8080/"
        },
        "id": "h09QJKFOi3hR",
        "outputId": "c00691de-d2bb-407b-98c2-97c160398bdb"
      },
      "execution_count": null,
      "outputs": [
        {
          "output_type": "execute_result",
          "data": {
            "text/plain": [
              "(2637, 224, 224, 3)"
            ]
          },
          "metadata": {},
          "execution_count": 8
        }
      ]
    },
    {
      "cell_type": "code",
      "source": [
        "x_test.shape"
      ],
      "metadata": {
        "colab": {
          "base_uri": "https://localhost:8080/"
        },
        "id": "o8aVnwj9i5jq",
        "outputId": "926c6ad7-a512-425d-e396-d40ddf77d8cf"
      },
      "execution_count": null,
      "outputs": [
        {
          "output_type": "execute_result",
          "data": {
            "text/plain": [
              "(660, 224, 224, 3)"
            ]
          },
          "metadata": {},
          "execution_count": 9
        }
      ]
    },
    {
      "cell_type": "code",
      "source": [
        "# x_train = x_train.reshape((len(x_train), np.prod(x_train.shape[1:]))) #Flattn the 224*224*3 images into vectors of size 150528\n",
        "# x_test = x_test.reshape((len(x_test), np.prod(x_test.shape[1:])))\n",
        "\n",
        "x_train = x_train.reshape(-1, 150528)  # Reshape to (number_of_samples, 150528)\n",
        "x_test = x_test.reshape(-1, 150528)  # Reshape to (number_of_samples, 150528)"
      ],
      "metadata": {
        "id": "et5L9jDLi59y"
      },
      "execution_count": null,
      "outputs": []
    },
    {
      "cell_type": "code",
      "source": [
        "x_train.shape"
      ],
      "metadata": {
        "colab": {
          "base_uri": "https://localhost:8080/"
        },
        "id": "3X6519dri7Bq",
        "outputId": "73531ef6-0b4a-4a26-8c6c-8c7aaaa1e29a"
      },
      "execution_count": null,
      "outputs": [
        {
          "output_type": "execute_result",
          "data": {
            "text/plain": [
              "(2637, 150528)"
            ]
          },
          "metadata": {},
          "execution_count": 11
        }
      ]
    },
    {
      "cell_type": "markdown",
      "source": [
        "### **\"2\"**"
      ],
      "metadata": {
        "id": "Yb2pxi5zjnAo"
      }
    },
    {
      "cell_type": "code",
      "source": [
        "input_dim = 150528\n",
        "input_shape = (input_dim,)\n",
        "\n",
        "# Encoder\n",
        "encoder_input = Input(shape=input_shape)\n",
        "encoded = Dense(128, activation='relu') (encoder_input)\n",
        "encoded = Dense(64, activation= 'relu') (encoded)\n",
        "\n",
        "# Decoder\n",
        "decoded = Dense(64, activation= 'relu') (encoded)\n",
        "decoded = Dense(128, activation='relu') (decoded)\n",
        "decoded = Dense(input_dim, activation='sigmoid') (decoded) # Last Decoder Output"
      ],
      "metadata": {
        "id": "HglNJicSjqCT"
      },
      "execution_count": null,
      "outputs": []
    },
    {
      "cell_type": "code",
      "source": [
        "autoencoder = Model(encoder_input, decoded)\n",
        "\n",
        "autoencoder.compile(optimizer='adam', loss='mean_squared_error')\n",
        "\n",
        "autoencoder.fit(x_train, x_train, epochs=EPOCHES, batch_size=Batch_Size)"
      ],
      "metadata": {
        "colab": {
          "base_uri": "https://localhost:8080/"
        },
        "id": "MdHYB4qGkUQZ",
        "outputId": "3008a9f6-462b-4a37-ac8f-54ae8150052f"
      },
      "execution_count": null,
      "outputs": [
        {
          "output_type": "stream",
          "name": "stdout",
          "text": [
            "Epoch 1/10\n",
            "83/83 [==============================] - 59s 684ms/step - loss: 0.0206\n",
            "Epoch 2/10\n",
            "83/83 [==============================] - 64s 768ms/step - loss: 0.0142\n",
            "Epoch 3/10\n",
            "83/83 [==============================] - 56s 678ms/step - loss: 0.0127\n",
            "Epoch 4/10\n",
            "83/83 [==============================] - 57s 690ms/step - loss: 0.0121\n",
            "Epoch 5/10\n",
            "83/83 [==============================] - 58s 701ms/step - loss: 0.0116\n",
            "Epoch 6/10\n",
            "83/83 [==============================] - 57s 684ms/step - loss: 0.0108\n",
            "Epoch 7/10\n",
            "83/83 [==============================] - 59s 714ms/step - loss: 0.0104\n",
            "Epoch 8/10\n",
            "83/83 [==============================] - 63s 758ms/step - loss: 0.0100\n",
            "Epoch 9/10\n",
            "83/83 [==============================] - 60s 728ms/step - loss: 0.0098\n",
            "Epoch 10/10\n",
            "83/83 [==============================] - 58s 703ms/step - loss: 0.0094\n"
          ]
        },
        {
          "output_type": "execute_result",
          "data": {
            "text/plain": [
              "<keras.src.callbacks.History at 0x7bab79d63400>"
            ]
          },
          "metadata": {},
          "execution_count": 13
        }
      ]
    },
    {
      "cell_type": "code",
      "source": [
        "# Classification Layer\n",
        "classification_output = Dense(2, activation='softmax') (encoded)\n",
        "\n",
        "# Create the classification model\n",
        "classifier_model = Model(encoder_input, classification_output)\n",
        "\n",
        "# Compile the classification model\n",
        "classifier_model.compile(\n",
        "    optimizer=Adam(learning_rate=INIT_LR),\n",
        "    loss='categorical_crossentropy',\n",
        "    metrics=['accuracy'])\n",
        "\n",
        "# Train the classifier\n",
        "classifier_model.fit(x_train, y_train, epochs=EPOCHES, batch_size=Batch_Size)\n",
        "\n",
        "# Evaluate the classifier\n",
        "test_loss, test_accuracy = classifier_model.evaluate(x_test, y_test)\n",
        "print(f'Test Loss: {test_loss:.4f}')\n",
        "print(f'Test Accuracy: {test_accuracy * 100:.2f}%')"
      ],
      "metadata": {
        "colab": {
          "base_uri": "https://localhost:8080/"
        },
        "id": "pDN6mR0lnhp8",
        "outputId": "2c4f593f-7e8f-4d7d-861f-04cf02e41053"
      },
      "execution_count": null,
      "outputs": [
        {
          "output_type": "stream",
          "name": "stdout",
          "text": [
            "Epoch 1/10\n",
            "83/83 [==============================] - 28s 330ms/step - loss: 1.0717 - accuracy: 0.6140\n",
            "Epoch 2/10\n",
            "83/83 [==============================] - 30s 363ms/step - loss: 0.7917 - accuracy: 0.6542\n",
            "Epoch 3/10\n",
            "83/83 [==============================] - 30s 357ms/step - loss: 0.6853 - accuracy: 0.7103\n",
            "Epoch 4/10\n",
            "83/83 [==============================] - 32s 389ms/step - loss: 0.8300 - accuracy: 0.6780\n",
            "Epoch 5/10\n",
            "83/83 [==============================] - 29s 345ms/step - loss: 0.5833 - accuracy: 0.7410\n",
            "Epoch 6/10\n",
            "83/83 [==============================] - 29s 351ms/step - loss: 0.6535 - accuracy: 0.7148\n",
            "Epoch 7/10\n",
            "83/83 [==============================] - 29s 346ms/step - loss: 0.5537 - accuracy: 0.7467\n",
            "Epoch 8/10\n",
            "83/83 [==============================] - 28s 333ms/step - loss: 0.5882 - accuracy: 0.7364\n",
            "Epoch 9/10\n",
            "83/83 [==============================] - 27s 332ms/step - loss: 0.5625 - accuracy: 0.7535\n",
            "Epoch 10/10\n",
            "83/83 [==============================] - 28s 334ms/step - loss: 0.5318 - accuracy: 0.7603\n",
            "21/21 [==============================] - 1s 40ms/step - loss: 0.5312 - accuracy: 0.7833\n",
            "Test Loss: 0.5312\n",
            "Test Accuracy: 78.33%\n"
          ]
        }
      ]
    },
    {
      "cell_type": "markdown",
      "source": [
        "### **\"3\"**"
      ],
      "metadata": {
        "id": "QAEAQ_DQupvx"
      }
    },
    {
      "cell_type": "markdown",
      "source": [
        "**Reshaping output vector of the last decoder layer**"
      ],
      "metadata": {
        "id": "Ud1qlggauwAM"
      }
    },
    {
      "cell_type": "code",
      "source": [
        "decoded_reshaped = Reshape((224, 224, 3))(decoded)"
      ],
      "metadata": {
        "id": "OLATMJvMutU3"
      },
      "execution_count": null,
      "outputs": []
    },
    {
      "cell_type": "markdown",
      "source": [
        "**CNN Layers**"
      ],
      "metadata": {
        "id": "hYr7OEKcvCOU"
      }
    },
    {
      "cell_type": "code",
      "source": [
        "conv1 = Conv2D(32, kernel_size=(3, 3), activation='relu')(decoded_reshaped)\n",
        "max_pool1 = MaxPooling2D(pool_size=(2, 2))(conv1)\n",
        "conv2 = Conv2D(64, kernel_size=(3, 3), activation='relu')(max_pool1)\n",
        "max_pool2 = MaxPooling2D(pool_size=(2, 2))(conv2)\n",
        "flatten = Flatten()(max_pool2)"
      ],
      "metadata": {
        "id": "HZshJ-HEvCfS"
      },
      "execution_count": null,
      "outputs": []
    },
    {
      "cell_type": "markdown",
      "source": [
        "**Classification**"
      ],
      "metadata": {
        "id": "Whdj5QMmveR6"
      }
    },
    {
      "cell_type": "code",
      "source": [
        "# Add Dense layers for classification\n",
        "dense1 = Dense(128, activation='relu')(flatten)\n",
        "dropout = Dropout(0.5)(dense1)\n",
        "classification_output = Dense(2, activation='softmax')(dropout)\n",
        "\n",
        "# Create the classification model\n",
        "classifier = Model(encoder_input, classification_output)\n",
        "\n",
        "# Compile the classification model\n",
        "classifier.compile(\n",
        "    optimizer=Adam(learning_rate=INIT_LR),\n",
        "    loss='categorical_crossentropy',\n",
        "    metrics=['accuracy'])\n",
        "\n",
        "# Train the classifier (replace with your actual training data)\n",
        "classifier.fit(x_train, y_train, epochs=10, batch_size=32)"
      ],
      "metadata": {
        "colab": {
          "base_uri": "https://localhost:8080/"
        },
        "id": "C5m4SO6fvcIy",
        "outputId": "7dc59e8d-ce3f-4ae2-f8ff-8cbc4b887ee1"
      },
      "execution_count": null,
      "outputs": [
        {
          "output_type": "stream",
          "name": "stdout",
          "text": [
            "Epoch 1/10\n",
            "83/83 [==============================] - 294s 3s/step - loss: 0.7128 - accuracy: 0.5256\n",
            "Epoch 2/10\n",
            "83/83 [==============================] - 298s 4s/step - loss: 0.6604 - accuracy: 0.5506\n",
            "Epoch 3/10\n",
            "83/83 [==============================] - 289s 3s/step - loss: 0.6066 - accuracy: 0.6261\n",
            "Epoch 4/10\n",
            "83/83 [==============================] - 297s 4s/step - loss: 0.5616 - accuracy: 0.7133\n",
            "Epoch 5/10\n",
            "83/83 [==============================] - 297s 4s/step - loss: 0.5875 - accuracy: 0.6868\n",
            "Epoch 6/10\n",
            "83/83 [==============================] - 293s 4s/step - loss: 0.5367 - accuracy: 0.7444\n",
            "Epoch 7/10\n",
            "83/83 [==============================] - 314s 4s/step - loss: 0.5020 - accuracy: 0.7550\n",
            "Epoch 8/10\n",
            "83/83 [==============================] - 299s 4s/step - loss: 0.4652 - accuracy: 0.7979\n",
            "Epoch 9/10\n",
            "83/83 [==============================] - 295s 4s/step - loss: 0.4870 - accuracy: 0.7823\n",
            "Epoch 10/10\n",
            "83/83 [==============================] - 293s 4s/step - loss: 0.4826 - accuracy: 0.7778\n"
          ]
        },
        {
          "output_type": "execute_result",
          "data": {
            "text/plain": [
              "<keras.src.callbacks.History at 0x7cec2c1c5ba0>"
            ]
          },
          "metadata": {},
          "execution_count": 18
        }
      ]
    },
    {
      "cell_type": "code",
      "source": [
        "test_loss, test_accuracy = classifier.evaluate(x_test, y_test)\n",
        "print(f'Test Loss: {test_loss:.4f}')\n",
        "print(f'Test Accuracy: {test_accuracy * 100:.2f}%')"
      ],
      "metadata": {
        "colab": {
          "base_uri": "https://localhost:8080/"
        },
        "id": "KqpB12Ob2sVA",
        "outputId": "18939787-555d-4a3d-8b62-7f3b5ccafae9"
      },
      "execution_count": null,
      "outputs": [
        {
          "output_type": "stream",
          "name": "stdout",
          "text": [
            "21/21 [==============================] - 19s 887ms/step - loss: 0.4230 - accuracy: 0.7924\n",
            "Test Loss: 0.4230\n",
            "Test Accuracy: 79.24%\n"
          ]
        }
      ]
    },
    {
      "cell_type": "markdown",
      "source": [
        "### **\"4\"**"
      ],
      "metadata": {
        "id": "Q2SETqjeDQqC"
      }
    },
    {
      "cell_type": "code",
      "source": [
        "from keras.applications import ResNet50\n",
        "from keras.applications.resnet50 import preprocess_input, decode_predictions"
      ],
      "metadata": {
        "id": "MVG2IgFGDTX-"
      },
      "execution_count": null,
      "outputs": []
    },
    {
      "cell_type": "markdown",
      "source": [
        "**Reshaping output vector of the last decoder layer**"
      ],
      "metadata": {
        "id": "asNpiSpZDe4-"
      }
    },
    {
      "cell_type": "code",
      "source": [
        "decoded_reshaped = Reshape((224, 224, 3))(decoded)"
      ],
      "metadata": {
        "id": "ghn5QYRQDejw"
      },
      "execution_count": null,
      "outputs": []
    },
    {
      "cell_type": "code",
      "source": [
        "# Create the autoencoder model\n",
        "autoencoder = Model(encoder_input, decoded_reshaped)"
      ],
      "metadata": {
        "id": "v8GEZIe3K75S"
      },
      "execution_count": null,
      "outputs": []
    },
    {
      "cell_type": "markdown",
      "source": [
        "**ResNet50**"
      ],
      "metadata": {
        "id": "HA0ZLU2lDxng"
      }
    },
    {
      "cell_type": "code",
      "source": [
        "# Input layer for ResNet50\n",
        "input_resnet = Input(shape=(224, 224, 3))\n",
        "\n",
        "# Load the pre-trained ResNet50 model without top layers\n",
        "base_model = ResNet50(weights='imagenet', include_top=False, input_tensor=input_resnet)"
      ],
      "metadata": {
        "id": "f01lrS1dDiB2"
      },
      "execution_count": null,
      "outputs": []
    },
    {
      "cell_type": "markdown",
      "source": [
        "**CNN**"
      ],
      "metadata": {
        "id": "m-LgfmsCEATb"
      }
    },
    {
      "cell_type": "code",
      "source": [
        "x = Conv2D(32, kernel_size=(3, 3), activation='relu')(decoded_reshaped)\n",
        "x = MaxPooling2D(pool_size=(2, 2))(x)\n",
        "x = Flatten()(x)"
      ],
      "metadata": {
        "id": "CJw-uCMfD_bh"
      },
      "execution_count": null,
      "outputs": []
    },
    {
      "cell_type": "markdown",
      "source": [
        "**Classification**"
      ],
      "metadata": {
        "id": "Cj_pPproHVY-"
      }
    },
    {
      "cell_type": "code",
      "source": [
        "# classification layer\n",
        "x = Dense(128, activation='relu')(x)\n",
        "x = Dropout(0.5)(x)\n",
        "classification_output = Dense(2, activation='softmax')(x)"
      ],
      "metadata": {
        "id": "V4HagdamHUhw"
      },
      "execution_count": null,
      "outputs": []
    },
    {
      "cell_type": "code",
      "source": [
        "# Connect ResNet50 to the classifier\n",
        "resnet_output = base_model(input_resnet)\n",
        "x = Flatten()(resnet_output)\n",
        "x = Dense(128, activation='relu')(x)\n",
        "x = Dropout(0.5)(x)\n",
        "classification_output = Dense(2, activation='softmax')(x)"
      ],
      "metadata": {
        "id": "rrhFWwV1NQlW"
      },
      "execution_count": null,
      "outputs": []
    },
    {
      "cell_type": "code",
      "source": [
        "# Create the classification model\n",
        "classifier = Model(inputs=[encoder_input, input_resnet], outputs=classification_output)\n",
        "\n",
        "classifier.compile(optimizer='adam', loss='categorical_crossentropy', metrics=['accuracy'])"
      ],
      "metadata": {
        "id": "3yC19XemNk6l"
      },
      "execution_count": null,
      "outputs": []
    },
    {
      "cell_type": "code",
      "source": [
        "Reshape((224, 224, 3))(x_train).shape"
      ],
      "metadata": {
        "colab": {
          "base_uri": "https://localhost:8080/"
        },
        "id": "1R4wrhTNO-Ti",
        "outputId": "22a4cd68-bf28-4d43-c407-a60bce8c0cf7"
      },
      "execution_count": null,
      "outputs": [
        {
          "output_type": "execute_result",
          "data": {
            "text/plain": [
              "TensorShape([2637, 224, 224, 3])"
            ]
          },
          "metadata": {},
          "execution_count": 21
        }
      ]
    },
    {
      "cell_type": "code",
      "source": [
        "classifier.fit([x_train, Reshape((224, 224, 3))(x_train)],\n",
        "               y_train,\n",
        "               epochs=2,\n",
        "               batch_size=20)"
      ],
      "metadata": {
        "colab": {
          "base_uri": "https://localhost:8080/"
        },
        "id": "UmZqhRMPELtN",
        "outputId": "394aafb9-137a-45f0-ff99-dc2a846bbf2f"
      },
      "execution_count": null,
      "outputs": [
        {
          "output_type": "stream",
          "name": "stdout",
          "text": [
            "Epoch 1/2\n",
            "132/132 [==============================] - 2197s 16s/step - loss: 1.8984 - accuracy: 0.7478\n",
            "Epoch 2/2\n",
            "132/132 [==============================] - 2177s 16s/step - loss: 0.4605 - accuracy: 0.7835\n"
          ]
        },
        {
          "output_type": "execute_result",
          "data": {
            "text/plain": [
              "<keras.src.callbacks.History at 0x7d9c157d8e20>"
            ]
          },
          "metadata": {},
          "execution_count": 22
        }
      ]
    },
    {
      "cell_type": "code",
      "source": [],
      "metadata": {
        "id": "4AI8SD9FT7-U"
      },
      "execution_count": null,
      "outputs": []
    }
  ]
}