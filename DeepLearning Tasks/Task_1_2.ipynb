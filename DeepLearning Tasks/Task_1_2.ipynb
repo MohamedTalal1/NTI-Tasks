{
  "nbformat": 4,
  "nbformat_minor": 0,
  "metadata": {
    "colab": {
      "provenance": [],
      "collapsed_sections": [
        "RqOM0LqXq7pg",
        "E8z-Go60uynj",
        "b05SPRt6dgSS",
        "fZH1t1G0iNUV"
      ]
    },
    "kernelspec": {
      "name": "python3",
      "display_name": "Python 3"
    },
    "language_info": {
      "name": "python"
    }
  },
  "cells": [
    {
      "cell_type": "markdown",
      "source": [
        "### **Loading Data**"
      ],
      "metadata": {
        "id": "RqOM0LqXq7pg"
      }
    },
    {
      "cell_type": "code",
      "source": [
        "from google.colab import drive\n",
        "drive.mount('/content/drive')"
      ],
      "metadata": {
        "colab": {
          "base_uri": "https://localhost:8080/"
        },
        "id": "xr7Yj6KosJ5w",
        "outputId": "d16fabe6-da7e-4880-8c39-7bdd2ae2e339"
      },
      "execution_count": null,
      "outputs": [
        {
          "output_type": "stream",
          "name": "stdout",
          "text": [
            "Drive already mounted at /content/drive; to attempt to forcibly remount, call drive.mount(\"/content/drive\", force_remount=True).\n"
          ]
        }
      ]
    },
    {
      "cell_type": "code",
      "source": [
        "import keras\n",
        "from keras import layers\n",
        "from keras.layers import Conv2D, MaxPooling2D, MaxPool2D, Flatten, Dense, Input, Reshape, Dropout, InputLayer\n",
        "import matplotlib.pyplot as plt\n",
        "from glob import glob\n",
        "from PIL import Image\n",
        "from sklearn.model_selection import train_test_split, KFold, cross_val_score, GridSearchCV\n",
        "from keras.models import Sequential, Model\n",
        "from keras.utils import to_categorical\n",
        "import pandas as pd\n",
        "import numpy as np\n",
        "import cv2\n",
        "import os\n",
        "from keras.optimizers import Adam\n",
        "from keras.losses import MeanSquaredError, SparseCategoricalCrossentropy\n",
        "from keras.metrics import SparseCategoricalAccuracy\n",
        "np.random.seed(11)"
      ],
      "metadata": {
        "id": "SpB4dX72rnTF"
      },
      "execution_count": null,
      "outputs": []
    },
    {
      "cell_type": "code",
      "execution_count": null,
      "metadata": {
        "id": "AZ_i-SwPm82-"
      },
      "outputs": [],
      "source": [
        "train_dir = os.path.join(os. getcwd() , r'/content/drive/MyDrive/train')\n",
        "test_dir = os.path.join (os.getcwd(), r'/content/drive/MyDrive/test')\n",
        "categories = ['benign','malignant']\n",
        "y_train = []\n",
        "x_train = []\n",
        "x_test = []\n",
        "y_test = []\n",
        "Batch_Size = 32\n",
        "INIT_LR = 1e-4\n",
        "EPOCHES = 10"
      ]
    },
    {
      "cell_type": "code",
      "source": [
        "for category in categories:\n",
        "  path = os.path.join(train_dir, category)\n",
        "  for img in os.listdir(path):\n",
        "    img_path = os.path.join(path, img)\n",
        "    image = cv2.imread(img_path)\n",
        "    image = cv2.resize(image, (224,224))\n",
        "    image = image / 255\n",
        "    x_train.append(image)\n",
        "    y_train.append(category)"
      ],
      "metadata": {
        "id": "zBGX50gqs8fX"
      },
      "execution_count": null,
      "outputs": []
    },
    {
      "cell_type": "code",
      "source": [
        "for category in categories:\n",
        "  path = os.path.join(test_dir, category)\n",
        "  for img in os.listdir(path):\n",
        "    img_path = os.path.join(path, img)\n",
        "    image = cv2.imread(img_path)\n",
        "    image - cv2.resize(image, (224,224))\n",
        "    image = image / 255\n",
        "    x_test.append(image)\n",
        "    y_test.append(category)"
      ],
      "metadata": {
        "id": "2K---ECvtpzF"
      },
      "execution_count": null,
      "outputs": []
    },
    {
      "cell_type": "code",
      "source": [
        "from sklearn.preprocessing import LabelBinarizer\n",
        "from keras.utils import to_categorical\n",
        "\n",
        "lb = LabelBinarizer ()\n",
        "y_train = lb.fit_transform(y_train)\n",
        "y_train = to_categorical(y_train,num_classes=2)\n",
        "y_test = lb.fit_transform(y_test)\n",
        "y_test = to_categorical (y_test, num_classes=2)"
      ],
      "metadata": {
        "id": "PoQP1ba-t7BN"
      },
      "execution_count": null,
      "outputs": []
    },
    {
      "cell_type": "code",
      "source": [
        "x_train = np.array(x_train, dtype= 'float32')\n",
        "y_train = np.array(y_train,dtype= 'float32')\n",
        "x_test = np.array(x_test,dtype= 'float32')\n",
        "y_test = np.array(y_test, dtype= 'float32')"
      ],
      "metadata": {
        "id": "U_jWacptuIfS"
      },
      "execution_count": null,
      "outputs": []
    },
    {
      "cell_type": "code",
      "source": [
        "x_train.shape"
      ],
      "metadata": {
        "colab": {
          "base_uri": "https://localhost:8080/"
        },
        "id": "m9r-4B98uc6T",
        "outputId": "ffc53d57-1cc3-4502-99ec-6bded9f3c29b"
      },
      "execution_count": null,
      "outputs": [
        {
          "output_type": "execute_result",
          "data": {
            "text/plain": [
              "(2637, 224, 224, 3)"
            ]
          },
          "metadata": {},
          "execution_count": 8
        }
      ]
    },
    {
      "cell_type": "code",
      "source": [
        "# x_train = x_train [:1100]\n",
        "# x_test = x_test [:300]\n",
        "# y_train = y_train [:1100]\n",
        "# y_test = y_test [:300]"
      ],
      "metadata": {
        "id": "cG6pHySQPKvA"
      },
      "execution_count": null,
      "outputs": []
    },
    {
      "cell_type": "code",
      "source": [
        "x_test.shape"
      ],
      "metadata": {
        "colab": {
          "base_uri": "https://localhost:8080/"
        },
        "id": "xx8j5XTKP-bw",
        "outputId": "a06b7404-8d1f-4bc6-851e-e300ea6c9f4c"
      },
      "execution_count": null,
      "outputs": [
        {
          "output_type": "execute_result",
          "data": {
            "text/plain": [
              "(660, 224, 224, 3)"
            ]
          },
          "metadata": {},
          "execution_count": 10
        }
      ]
    },
    {
      "cell_type": "code",
      "source": [
        "# x_train = x_train.reshape((len(x_train), np.prod(x_train.shape[1:]))) #Flattn the 224*224*3 images into vectors of size 150528\n",
        "# x_test = x_test.reshape((len(x_test), np.prod(x_test.shape[1:])))\n",
        "\n",
        "x_train = x_train.reshape(-1, 150528)  # Reshape to (number_of_samples, 150528)\n",
        "x_test = x_test.reshape(-1, 150528)  # Reshape to (number_of_samples, 150528)"
      ],
      "metadata": {
        "id": "E4ZGfO4IwpfR"
      },
      "execution_count": null,
      "outputs": []
    },
    {
      "cell_type": "code",
      "source": [
        "x_train.shape"
      ],
      "metadata": {
        "colab": {
          "base_uri": "https://localhost:8080/"
        },
        "id": "YLsBuOyGwqdx",
        "outputId": "bfe2dd5f-8698-43eb-abe5-bea3e83b1b8f"
      },
      "execution_count": null,
      "outputs": [
        {
          "output_type": "execute_result",
          "data": {
            "text/plain": [
              "(2637, 150528)"
            ]
          },
          "metadata": {},
          "execution_count": 12
        }
      ]
    },
    {
      "cell_type": "markdown",
      "source": [
        "### **Building Autoncoder \"1\"**"
      ],
      "metadata": {
        "id": "E8z-Go60uynj"
      }
    },
    {
      "cell_type": "code",
      "source": [
        "input_dim = 150528\n",
        "input_shape = (input_dim,)\n",
        "\n",
        "# Encoder\n",
        "encoder_input = Input(shape=input_shape)\n",
        "encoded = Dense(128, activation='relu') (encoder_input)\n",
        "encoded = Dense(64, activation= 'relu') (encoded)\n",
        "\n",
        "# Decoder\n",
        "decoded = Dense(64, activation= 'relu') (encoded)\n",
        "decoded = Dense(128, activation='relu') (decoded)\n",
        "decoded = Dense(input_dim, activation='sigmoid') (decoded) # Last Decoder Output"
      ],
      "metadata": {
        "id": "A0YiZ82k30Ka"
      },
      "execution_count": null,
      "outputs": []
    },
    {
      "cell_type": "code",
      "source": [
        "# Classification Layer\n",
        "classification_output = Dense(2, activation='softmax') (decoded)\n",
        "\n",
        "autoencoder = Model(encoder_input, [decoded, classification_output])"
      ],
      "metadata": {
        "id": "wU8oFSlOU0bv"
      },
      "execution_count": null,
      "outputs": []
    },
    {
      "cell_type": "code",
      "source": [
        "# Compile the autoencoder model\n",
        "autoencoder.compile(optimizer=Adam(learning_rate=INIT_LR),\n",
        "                    loss=['mean_squared_error', 'categorical_crossentropy'],\n",
        "                    loss_weights=[0.5, 0.5],  # You can adjust this weight\n",
        "                    metrics=['accuracy'])"
      ],
      "metadata": {
        "id": "ZNLh_HmuxLGG"
      },
      "execution_count": null,
      "outputs": []
    },
    {
      "cell_type": "code",
      "source": [
        "autoencoder.fit(x_train, [x_train, y_train],\n",
        "                epochs=EPOCHES,\n",
        "                batch_size=Batch_Size,\n",
        "                shuffle=True,\n",
        "                verbose = 2)"
      ],
      "metadata": {
        "colab": {
          "base_uri": "https://localhost:8080/"
        },
        "id": "R6JCgEjM0eRW",
        "outputId": "02a65f8d-ae90-49cf-ac46-e1cb5c90fa47"
      },
      "execution_count": null,
      "outputs": [
        {
          "output_type": "stream",
          "name": "stdout",
          "text": [
            "Epoch 1/10\n",
            "83/83 - 60s - loss: 0.6212 - dense_4_loss: 0.0507 - dense_5_loss: 1.1918 - dense_4_accuracy: 0.0000e+00 - dense_5_accuracy: 0.5199 - 60s/epoch - 721ms/step\n",
            "Epoch 2/10\n",
            "83/83 - 57s - loss: 0.3679 - dense_4_loss: 0.0507 - dense_5_loss: 0.6851 - dense_4_accuracy: 0.0000e+00 - dense_5_accuracy: 0.6265 - 57s/epoch - 690ms/step\n",
            "Epoch 3/10\n",
            "83/83 - 60s - loss: 0.3336 - dense_4_loss: 0.0508 - dense_5_loss: 0.6164 - dense_4_accuracy: 0.0000e+00 - dense_5_accuracy: 0.7091 - 60s/epoch - 718ms/step\n",
            "Epoch 4/10\n",
            "83/83 - 60s - loss: 0.3853 - dense_4_loss: 0.0507 - dense_5_loss: 0.7199 - dense_4_accuracy: 0.0000e+00 - dense_5_accuracy: 0.7042 - 60s/epoch - 724ms/step\n",
            "Epoch 5/10\n",
            "83/83 - 59s - loss: 0.3446 - dense_4_loss: 0.0510 - dense_5_loss: 0.6382 - dense_4_accuracy: 0.0000e+00 - dense_5_accuracy: 0.7213 - 59s/epoch - 713ms/step\n",
            "Epoch 6/10\n",
            "83/83 - 59s - loss: 0.3021 - dense_4_loss: 0.0509 - dense_5_loss: 0.5534 - dense_4_accuracy: 0.0000e+00 - dense_5_accuracy: 0.7505 - 59s/epoch - 707ms/step\n",
            "Epoch 7/10\n",
            "83/83 - 59s - loss: 0.3023 - dense_4_loss: 0.0507 - dense_5_loss: 0.5540 - dense_4_accuracy: 0.0000e+00 - dense_5_accuracy: 0.7490 - 59s/epoch - 712ms/step\n",
            "Epoch 8/10\n",
            "83/83 - 61s - loss: 0.3181 - dense_4_loss: 0.0505 - dense_5_loss: 0.5856 - dense_4_accuracy: 0.0000e+00 - dense_5_accuracy: 0.7490 - 61s/epoch - 735ms/step\n",
            "Epoch 9/10\n",
            "83/83 - 54s - loss: 0.3253 - dense_4_loss: 0.0505 - dense_5_loss: 0.6001 - dense_4_accuracy: 0.0000e+00 - dense_5_accuracy: 0.7474 - 54s/epoch - 656ms/step\n",
            "Epoch 10/10\n",
            "83/83 - 51s - loss: 0.3014 - dense_4_loss: 0.0505 - dense_5_loss: 0.5522 - dense_4_accuracy: 0.0000e+00 - dense_5_accuracy: 0.7524 - 51s/epoch - 616ms/step\n"
          ]
        },
        {
          "output_type": "execute_result",
          "data": {
            "text/plain": [
              "<keras.src.callbacks.History at 0x7cad972cfd60>"
            ]
          },
          "metadata": {},
          "execution_count": 15
        }
      ]
    },
    {
      "cell_type": "markdown",
      "source": [
        "### **Building Autoencoder\"2\"**"
      ],
      "metadata": {
        "id": "b05SPRt6dgSS"
      }
    },
    {
      "cell_type": "code",
      "source": [
        "input_dim = 150528\n",
        "input_shape = (input_dim,)\n",
        "\n",
        "# Encoder\n",
        "encoder_input = Input(shape=input_shape)\n",
        "encoded = Dense(128, activation='relu') (encoder_input)\n",
        "encoded = Dense(64, activation= 'relu') (encoded)\n",
        "\n",
        "# Decoder\n",
        "decoded = Dense(64, activation= 'relu') (encoded)\n",
        "decoded = Dense(128, activation='relu') (decoded)\n",
        "decoded = Dense(input_dim, activation='sigmoid') (decoded) # Last Decoder Output"
      ],
      "metadata": {
        "id": "6nQU5MOCdjlu"
      },
      "execution_count": null,
      "outputs": []
    },
    {
      "cell_type": "code",
      "source": [
        "# Classification Layer\n",
        "classification_output = Dense(2, activation='softmax') (encoded)\n",
        "\n",
        "autoencoder = Model(encoder_input, [decoded, classification_output])"
      ],
      "metadata": {
        "id": "G4JAinEOVFZo"
      },
      "execution_count": null,
      "outputs": []
    },
    {
      "cell_type": "code",
      "source": [
        "# Compile the autoencoder model\n",
        "autoencoder.compile(optimizer=Adam(learning_rate=INIT_LR),\n",
        "                    loss=['mean_squared_error', 'categorical_crossentropy'],\n",
        "                    loss_weights=[0.5, 0.5],  # You can adjust this weight\n",
        "                    metrics=['accuracy'])"
      ],
      "metadata": {
        "id": "JWmH5NjbfgWB"
      },
      "execution_count": null,
      "outputs": []
    },
    {
      "cell_type": "code",
      "source": [
        "autoencoder.fit(x_train, [x_train, y_train],\n",
        "                epochs=EPOCHES,\n",
        "                batch_size=Batch_Size,\n",
        "                shuffle=True,\n",
        "                verbose = 2)"
      ],
      "metadata": {
        "colab": {
          "base_uri": "https://localhost:8080/"
        },
        "id": "Ll9PZWx5fht7",
        "outputId": "e2a8c047-6bf4-4128-978c-e0779dbcca01"
      },
      "execution_count": null,
      "outputs": [
        {
          "output_type": "stream",
          "name": "stdout",
          "text": [
            "Epoch 1/10\n",
            "83/83 - 52s - loss: 0.4208 - dense_10_loss: 0.0279 - dense_11_loss: 0.8137 - dense_10_accuracy: 3.7922e-04 - dense_11_accuracy: 0.6579 - 52s/epoch - 630ms/step\n",
            "Epoch 2/10\n",
            "83/83 - 51s - loss: 0.3730 - dense_10_loss: 0.0208 - dense_11_loss: 0.7251 - dense_10_accuracy: 3.7922e-04 - dense_11_accuracy: 0.6796 - 51s/epoch - 616ms/step\n",
            "Epoch 3/10\n",
            "83/83 - 52s - loss: 0.3274 - dense_10_loss: 0.0208 - dense_11_loss: 0.6340 - dense_10_accuracy: 3.7922e-04 - dense_11_accuracy: 0.7179 - 52s/epoch - 632ms/step\n",
            "Epoch 4/10\n",
            "83/83 - 49s - loss: 0.3264 - dense_10_loss: 0.0207 - dense_11_loss: 0.6321 - dense_10_accuracy: 0.0000e+00 - dense_11_accuracy: 0.7228 - 49s/epoch - 592ms/step\n",
            "Epoch 5/10\n",
            "83/83 - 50s - loss: 0.2958 - dense_10_loss: 0.0207 - dense_11_loss: 0.5708 - dense_10_accuracy: 7.5844e-04 - dense_11_accuracy: 0.7304 - 50s/epoch - 599ms/step\n",
            "Epoch 6/10\n",
            "83/83 - 55s - loss: 0.2623 - dense_10_loss: 0.0206 - dense_11_loss: 0.5040 - dense_10_accuracy: 3.7922e-04 - dense_11_accuracy: 0.7649 - 55s/epoch - 660ms/step\n",
            "Epoch 7/10\n",
            "83/83 - 51s - loss: 0.2761 - dense_10_loss: 0.0205 - dense_11_loss: 0.5317 - dense_10_accuracy: 0.0000e+00 - dense_11_accuracy: 0.7501 - 51s/epoch - 614ms/step\n",
            "Epoch 8/10\n",
            "83/83 - 50s - loss: 0.3018 - dense_10_loss: 0.0204 - dense_11_loss: 0.5832 - dense_10_accuracy: 3.7922e-04 - dense_11_accuracy: 0.7425 - 50s/epoch - 603ms/step\n",
            "Epoch 9/10\n",
            "83/83 - 52s - loss: 0.3171 - dense_10_loss: 0.0202 - dense_11_loss: 0.6140 - dense_10_accuracy: 3.7922e-04 - dense_11_accuracy: 0.7349 - 52s/epoch - 623ms/step\n",
            "Epoch 10/10\n",
            "83/83 - 52s - loss: 0.2695 - dense_10_loss: 0.0200 - dense_11_loss: 0.5189 - dense_10_accuracy: 3.7922e-04 - dense_11_accuracy: 0.7546 - 52s/epoch - 623ms/step\n"
          ]
        },
        {
          "output_type": "execute_result",
          "data": {
            "text/plain": [
              "<keras.src.callbacks.History at 0x7cad87eb7af0>"
            ]
          },
          "metadata": {},
          "execution_count": 19
        }
      ]
    },
    {
      "cell_type": "code",
      "source": [],
      "metadata": {
        "id": "9rFrxXpYf5IK"
      },
      "execution_count": null,
      "outputs": []
    },
    {
      "cell_type": "markdown",
      "source": [
        "### **Building Autoencoder\"5\"**"
      ],
      "metadata": {
        "id": "fZH1t1G0iNUV"
      }
    },
    {
      "cell_type": "code",
      "source": [
        "model = Sequential ()\n",
        "model.add(InputLayer (input_shape= (224, 224, 3)))\n",
        "model.add(Conv2D (32, kernel_size= (2,2),activation='relu'))\n",
        "model.add (MaxPooling2D (pool_size=(2,2)))\n",
        "model.add(Conv2D (64, kernel_size= (2,2),activation='relu'))\n",
        "model.add(MaxPooling2D (pool_size= (2,2)))\n",
        "model.add(Conv2D (128,kernel_size= (2,2),activation='relu'))\n",
        "model.add(MaxPooling2D(pool_size= (2,2)))\n",
        "model.add(Flatten ())\n",
        "\n",
        "model.add(Dense (128, activation='relu'))\n",
        "model.add (Dropout (0.5))\n",
        "model.add (Dense (2,activation= 'softmax' ))"
      ],
      "metadata": {
        "id": "sdEbuVjniTfv"
      },
      "execution_count": null,
      "outputs": []
    },
    {
      "cell_type": "code",
      "source": [
        "#Regularization\n",
        "optimzation = Adam(learning_rate=INIT_LR, weight_decay=INIT_LR/Batch_Size)"
      ],
      "metadata": {
        "id": "JEyp_5MVWm0_"
      },
      "execution_count": null,
      "outputs": []
    },
    {
      "cell_type": "code",
      "source": [
        "model.compile (optimizer=optimzation, loss='binary_crossentropy',metrics=['accuracy'])"
      ],
      "metadata": {
        "id": "GI4cKSHqXCSQ"
      },
      "execution_count": null,
      "outputs": []
    },
    {
      "cell_type": "code",
      "source": [
        "x_train = Reshape((224, 224, 3))(x_train)"
      ],
      "metadata": {
        "id": "VjlZ0GS4YcrI"
      },
      "execution_count": null,
      "outputs": []
    },
    {
      "cell_type": "code",
      "source": [
        "History = model.fit(x_train, y_train,\n",
        "                    epochs=EPOCHES,\n",
        "                    batch_size=Batch_Size)"
      ],
      "metadata": {
        "colab": {
          "base_uri": "https://localhost:8080/",
          "height": 426
        },
        "id": "TdziXUFlXJp2",
        "outputId": "2acc70f3-d4f5-4668-a0a7-c6592e2b3dc3"
      },
      "execution_count": null,
      "outputs": [
        {
          "output_type": "stream",
          "name": "stdout",
          "text": [
            "Epoch 1/10\n",
            "79/83 [===========================>..] - ETA: 0s"
          ]
        },
        {
          "output_type": "error",
          "ename": "ValueError",
          "evalue": "ignored",
          "traceback": [
            "\u001b[0;31m---------------------------------------------------------------------------\u001b[0m",
            "\u001b[0;31mValueError\u001b[0m                                Traceback (most recent call last)",
            "\u001b[0;32m<ipython-input-27-37384b80703d>\u001b[0m in \u001b[0;36m<cell line: 1>\u001b[0;34m()\u001b[0m\n\u001b[0;32m----> 1\u001b[0;31m History = model.fit(x_train, y_train,\n\u001b[0m\u001b[1;32m      2\u001b[0m                     \u001b[0mepochs\u001b[0m\u001b[0;34m=\u001b[0m\u001b[0mEPOCHES\u001b[0m\u001b[0;34m,\u001b[0m\u001b[0;34m\u001b[0m\u001b[0;34m\u001b[0m\u001b[0m\n\u001b[1;32m      3\u001b[0m                     batch_size=Batch_Size)\n",
            "\u001b[0;32m/usr/local/lib/python3.10/dist-packages/keras/src/utils/traceback_utils.py\u001b[0m in \u001b[0;36merror_handler\u001b[0;34m(*args, **kwargs)\u001b[0m\n\u001b[1;32m     68\u001b[0m             \u001b[0;31m# To get the full stack trace, call:\u001b[0m\u001b[0;34m\u001b[0m\u001b[0;34m\u001b[0m\u001b[0m\n\u001b[1;32m     69\u001b[0m             \u001b[0;31m# `tf.debugging.disable_traceback_filtering()`\u001b[0m\u001b[0;34m\u001b[0m\u001b[0;34m\u001b[0m\u001b[0m\n\u001b[0;32m---> 70\u001b[0;31m             \u001b[0;32mraise\u001b[0m \u001b[0me\u001b[0m\u001b[0;34m.\u001b[0m\u001b[0mwith_traceback\u001b[0m\u001b[0;34m(\u001b[0m\u001b[0mfiltered_tb\u001b[0m\u001b[0;34m)\u001b[0m \u001b[0;32mfrom\u001b[0m \u001b[0;32mNone\u001b[0m\u001b[0;34m\u001b[0m\u001b[0;34m\u001b[0m\u001b[0m\n\u001b[0m\u001b[1;32m     71\u001b[0m         \u001b[0;32mfinally\u001b[0m\u001b[0;34m:\u001b[0m\u001b[0;34m\u001b[0m\u001b[0;34m\u001b[0m\u001b[0m\n\u001b[1;32m     72\u001b[0m             \u001b[0;32mdel\u001b[0m \u001b[0mfiltered_tb\u001b[0m\u001b[0;34m\u001b[0m\u001b[0;34m\u001b[0m\u001b[0m\n",
            "\u001b[0;32m/usr/local/lib/python3.10/dist-packages/keras/src/engine/training.py\u001b[0m in \u001b[0;36mfit\u001b[0;34m(self, x, y, batch_size, epochs, verbose, callbacks, validation_split, validation_data, shuffle, class_weight, sample_weight, initial_epoch, steps_per_epoch, validation_steps, validation_batch_size, validation_freq, max_queue_size, workers, use_multiprocessing)\u001b[0m\n\u001b[1;32m   1793\u001b[0m                 \u001b[0mlogs\u001b[0m \u001b[0;34m=\u001b[0m \u001b[0mtf_utils\u001b[0m\u001b[0;34m.\u001b[0m\u001b[0msync_to_numpy_or_python_type\u001b[0m\u001b[0;34m(\u001b[0m\u001b[0mlogs\u001b[0m\u001b[0;34m)\u001b[0m\u001b[0;34m\u001b[0m\u001b[0;34m\u001b[0m\u001b[0m\n\u001b[1;32m   1794\u001b[0m                 \u001b[0;32mif\u001b[0m \u001b[0mlogs\u001b[0m \u001b[0;32mis\u001b[0m \u001b[0;32mNone\u001b[0m\u001b[0;34m:\u001b[0m\u001b[0;34m\u001b[0m\u001b[0;34m\u001b[0m\u001b[0m\n\u001b[0;32m-> 1795\u001b[0;31m                     raise ValueError(\n\u001b[0m\u001b[1;32m   1796\u001b[0m                         \u001b[0;34m\"Unexpected result of `train_function` \"\u001b[0m\u001b[0;34m\u001b[0m\u001b[0;34m\u001b[0m\u001b[0m\n\u001b[1;32m   1797\u001b[0m                         \u001b[0;34m\"(Empty logs). This could be due to issues in input \"\u001b[0m\u001b[0;34m\u001b[0m\u001b[0;34m\u001b[0m\u001b[0m\n",
            "\u001b[0;31mValueError\u001b[0m: Unexpected result of `train_function` (Empty logs). This could be due to issues in input pipeline that resulted in an empty dataset. Otherwise, please use `Model.compile(..., run_eagerly=True)`, or `tf.config.run_functions_eagerly(True)` for more information of where went wrong, or file a issue/bug to `tf.keras`."
          ]
        }
      ]
    },
    {
      "cell_type": "code",
      "source": [],
      "metadata": {
        "id": "80mNe8j1Xnaz"
      },
      "execution_count": null,
      "outputs": []
    }
  ]
}